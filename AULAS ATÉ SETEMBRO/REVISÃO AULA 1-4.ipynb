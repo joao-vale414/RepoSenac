{
 "cells": [
  {
   "cell_type": "markdown",
   "metadata": {},
   "source": [
    "## Análise de Dados - Senac RJ\n",
    "\n",
    "## AULA 5 (Revisão Completa)"
   ]
  },
  {
   "cell_type": "code",
   "execution_count": null,
   "metadata": {},
   "outputs": [],
   "source": [
    "num1 = 20 # determinar o valor de uma variável\n",
    "num2 = 30 \n",
    "resultado = num1 + num2\n",
    "print(resultado) #print = exibir algo na tela (o que o usuário vai ver)"
   ]
  },
  {
   "cell_type": "code",
   "execution_count": null,
   "metadata": {},
   "outputs": [],
   "source": [
    "print(f\"O resultado de {num1} + {num2} é {resultado}\") # f antes das \"\" diz ao código que serão strings com variavéis incluídas "
   ]
  },
  {
   "cell_type": "code",
   "execution_count": null,
   "metadata": {},
   "outputs": [],
   "source": [
    "num3 = int(input(\"[Digite o primeiro valor]: \")) # int antes do input determina que a variável recebida será um nº inteiro \n",
    "num4 = int(input(\"[Digite o segundo valor]: \")) \n",
    "resultado2 = num3 + num4 \n",
    "print(resultado2) # Caso não fosse determinado o int antes saíria num3num4 um do lado do outro ao invés de a soma deles"
   ]
  },
  {
   "cell_type": "code",
   "execution_count": null,
   "metadata": {},
   "outputs": [],
   "source": [
    "b1 = 8.5\n",
    "b2 = 7.5\n",
    "b3 = 8.9\n",
    "b4 = 7.8\n",
    "media = (b1+b2+b3+b4) / 4\n",
    " \n",
    "if media >= 7: # if = caso seja isso - faz isso\n",
    " print(\"APROVADO\")\n",
    "elif media < 7 and media >= 5: #elif = caso não seja o de cima crie outra condição embaixo\n",
    " print(\"RECUPERAÇÃO\")\n",
    "else: # else é a negativa de tudo o que está acima\n",
    " print(\"REPROVADO\")\n"
   ]
  },
  {
   "cell_type": "code",
   "execution_count": null,
   "metadata": {},
   "outputs": [],
   "source": [
    "while True: # Estrutura de Repetição\n",
    " try: # Condição para a estrutura seguir\n",
    "  num3 = int(input(\"[Digite um Nº]: \"))\n",
    "  break # Para a estrutura não rodar infinitamente\n",
    " except: # Caso não atenda a condição \n",
    "  print(\"ERROR!VALOR INVÁLIDO!\")"
   ]
  },
  {
   "cell_type": "code",
   "execution_count": null,
   "metadata": {},
   "outputs": [],
   "source": [
    "contador = 0 # Estrutura de Condição \n",
    "\n",
    "while contador <= 5: # Sem o True o while vira uma estrutura de condição - Enquanto contador for <= 5 vai ficar repetindo\n",
    "   print(contador) # Nesse caso a tela ia exibir a contagem: 1,2,3,4,5\n",
    "   contador += 1 # Isso adiciona + 1 ao valor do contador para que em um determinado momento o contador atinja a condição de cima e para\n",
    " # Pode ser adicionado mais (+=2 , +=3)"
   ]
  },
  {
   "cell_type": "code",
   "execution_count": null,
   "metadata": {},
   "outputs": [],
   "source": [
    "tupla = (\"Joao\" , 22 , \"R$ 4800,50\", \"rua tavares nº 414\") # TUPLAS () são váriaveis com múltiplos dados e são imutáveis (não mudam)\n",
    "print(tupla)\n",
    "\n",
    "lista = [\"Joao\" , 22 , \"R$ 4800,50\", \"rua tavares nº 414\"] # LISTAS [] \n",
    "print(lista[3]) # Vai printar o terceiro indice da lista (lembrando que a contagem sempre começa com 0), caso queira o 1º e 3º indice (nome[1:3])\n",
    "\n",
    "telefone = 1234\n",
    "\n",
    "lista.append(telefone) # lista.append() adiciona itens a lista\n",
    "print(lista)\n",
    "\n",
    "for i in lista: # Apresenta os dados da lista um embaixo do outro\n",
    " print(i)\n",
    "\n",
    "lista = [] # Pode criar a lista sozinha e ir adicionando informações\n",
    "while True:\n",
    " try:\n",
    "  n = int(input(\"Digite um Nº: \"))\n",
    "  lista.append(n)\n",
    "  sair = input(\"Deseja inserir outro número (S/N): \").upper() # Enquanto a resposta for sim o código se repete adicionando mais valores a lista\n",
    "  if sair == \"N\":\n",
    "    break\n",
    " except:\n",
    "  print(\"Nº Inválido\")\n",
    "\n",
    "print(lista)\n",
    "\n",
    "print(\"1\\n2\\n3\\n4\") # Estrutura simples para o usuário escolher um opção\n",
    "while True:\n",
    " try:\n",
    "  opcao = int(input(\"Escolha uma das opções: \"))\n",
    "  if opcao in [1,2,3,4]:\n",
    "   break\n",
    "  else: \n",
    "   print(\"OPÇÃO INVÁLIDA!\")\n",
    " except:\n",
    "  print(\"!ERROR!\")\n"
   ]
  }
 ],
 "metadata": {
  "kernelspec": {
   "display_name": "Python 3",
   "language": "python",
   "name": "python3"
  },
  "language_info": {
   "codemirror_mode": {
    "name": "ipython",
    "version": 3
   },
   "file_extension": ".py",
   "mimetype": "text/x-python",
   "name": "python",
   "nbconvert_exporter": "python",
   "pygments_lexer": "ipython3",
   "version": "3.11.4"
  },
  "orig_nbformat": 4
 },
 "nbformat": 4,
 "nbformat_minor": 2
}
