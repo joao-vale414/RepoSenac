{
 "cells": [
  {
   "cell_type": "code",
   "execution_count": 4,
   "metadata": {},
   "outputs": [],
   "source": [
    "#1 Criar Função\n",
    "\n",
    "def saudacao(): # def = definir uma função\n",
    " print(\"Bem Vindo\")\n"
   ]
  },
  {
   "cell_type": "code",
   "execution_count": null,
   "metadata": {},
   "outputs": [],
   "source": [
    "#2 Chamando minha função\n",
    "\n",
    "saudacao() # No .py é obrigatório o print - no Jupyter não"
   ]
  },
  {
   "cell_type": "code",
   "execution_count": 6,
   "metadata": {},
   "outputs": [],
   "source": [
    "#3 Funções com parâmetros\n",
    "\n",
    "def saudacao_parametros(nome):\n",
    " print(f\"Bem Vindo{nome}\")"
   ]
  },
  {
   "cell_type": "code",
   "execution_count": null,
   "metadata": {},
   "outputs": [],
   "source": [
    "nome2 = \" Naruto\"\n",
    "saudacao_parametros(nome2)"
   ]
  },
  {
   "cell_type": "code",
   "execution_count": 15,
   "metadata": {},
   "outputs": [],
   "source": [
    "#4 Função com Retorno\n",
    "\n",
    "def soma(a,b):\n",
    " return a + b"
   ]
  },
  {
   "cell_type": "code",
   "execution_count": null,
   "metadata": {},
   "outputs": [],
   "source": [
    "resultado = soma(10,15)\n",
    "print(resultado)"
   ]
  },
  {
   "cell_type": "code",
   "execution_count": null,
   "metadata": {},
   "outputs": [],
   "source": [
    "def pares(a,b,c,d,e,f):\n",
    " return (a + b , c + d , e + f)\n",
    "\n",
    "resultado = pares(10,20,30,40,50,60)\n",
    "print(f\"A soma do 1º par é: {resultado[0]}\")\n",
    "print(f\"A soma do 2º par é: {resultado[1]}\")\n",
    "print(f\"A soma do 3º par é: {resultado[2]}\")"
   ]
  },
  {
   "cell_type": "code",
   "execution_count": null,
   "metadata": {},
   "outputs": [],
   "source": [
    "def calcular(g,h):\n",
    " return g + h\n",
    "\n",
    "soma2 = calcular(10,20)\n",
    "print(soma2)"
   ]
  },
  {
   "cell_type": "code",
   "execution_count": null,
   "metadata": {},
   "outputs": [],
   "source": [
    "def multa(via,passada): # ctrl d pega toda a variavel\n",
    " \n",
    " ate_10 = via * 1.1\n",
    " ate_20 = via * 1.2\n",
    " ate_30 = via * 1.3\n",
    " \n",
    " if passada < ate_10:\n",
    "  print(\"Sem multa\")\n",
    " elif passada >= ate_10 and passada < ate_20:\n",
    "  print(\"leve\")\n",
    " elif passada >= ate_20 and passada < ate_30:\n",
    "  print(\"média\")\n",
    " else:\n",
    "  print(\"grave\")\n",
    "\n",
    "print(multa(100,110))\n"
   ]
  },
  {
   "cell_type": "code",
   "execution_count": null,
   "metadata": {},
   "outputs": [],
   "source": [
    "# sexo = \"Masculino\" (66.5 + (13.75 * peso) + (5.003 * altura) - (6.755 * idade))\n",
    "# sexo = \"Feminino\"  (665,1 + (9.563 * peso) + (1.850 * altura) - (4.676 * idade))\n",
    "# peso = 50\n",
    "# altura = 1.65\n",
    "# idade = 25\n",
    "\n",
    "def TMB():\n",
    " sexo = input(\"[Escolha o sexo M/F]: \").strip().upper()\n",
    " idade = int(input(\"[Informe sua Idade]: \"))\n",
    " altura = int(input(\"[Informe sua Altura(cm)]: \"))\n",
    " peso = int(input(\"[Informe seu Peso(kg)]: \"))\n",
    "\n",
    " if sexo == \"M\":\n",
    "  tmb = (66.5 + (13.75 * peso) + (5.003 * altura) - (6.755 * idade))\n",
    " elif sexo == \"F\":\n",
    "  tmb = (665,1 + (9.563 * peso) + (1.850 * altura) - (4.676 * idade))\n",
    " else:\n",
    "  print(\"ERROR\")\n",
    "\n",
    "\n",
    " \n"
   ]
  }
 ],
 "metadata": {
  "kernelspec": {
   "display_name": "Python 3",
   "language": "python",
   "name": "python3"
  },
  "language_info": {
   "codemirror_mode": {
    "name": "ipython",
    "version": 3
   },
   "file_extension": ".py",
   "mimetype": "text/x-python",
   "name": "python",
   "nbconvert_exporter": "python",
   "pygments_lexer": "ipython3",
   "version": "3.11.4"
  },
  "orig_nbformat": 4
 },
 "nbformat": 4,
 "nbformat_minor": 2
}
