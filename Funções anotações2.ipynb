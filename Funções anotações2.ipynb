{
 "cells": [
  {
   "cell_type": "code",
   "execution_count": 2,
   "metadata": {},
   "outputs": [],
   "source": [
    "# Bibliotecas são funções que terceiros criaram\n",
    "\n",
    "import pandas as pd # as pd é boa prática - existem padrões para bibliotecas - padrão de mercado "
   ]
  },
  {
   "cell_type": "code",
   "execution_count": 7,
   "metadata": {},
   "outputs": [
    {
     "data": {
      "text/html": [
       "<div>\n",
       "<style scoped>\n",
       "    .dataframe tbody tr th:only-of-type {\n",
       "        vertical-align: middle;\n",
       "    }\n",
       "\n",
       "    .dataframe tbody tr th {\n",
       "        vertical-align: top;\n",
       "    }\n",
       "\n",
       "    .dataframe thead th {\n",
       "        text-align: right;\n",
       "    }\n",
       "</style>\n",
       "<table border=\"1\" class=\"dataframe\">\n",
       "  <thead>\n",
       "    <tr style=\"text-align: right;\">\n",
       "      <th></th>\n",
       "      <th>Nome</th>\n",
       "      <th>Idade</th>\n",
       "      <th>Cidade</th>\n",
       "    </tr>\n",
       "  </thead>\n",
       "  <tbody>\n",
       "    <tr>\n",
       "      <th>0</th>\n",
       "      <td>Ana</td>\n",
       "      <td>23</td>\n",
       "      <td>São Paulo</td>\n",
       "    </tr>\n",
       "    <tr>\n",
       "      <th>1</th>\n",
       "      <td>Bruno</td>\n",
       "      <td>35</td>\n",
       "      <td>Rio de Janeiro</td>\n",
       "    </tr>\n",
       "    <tr>\n",
       "      <th>2</th>\n",
       "      <td>Carlos</td>\n",
       "      <td>45</td>\n",
       "      <td>Belo Horizonte</td>\n",
       "    </tr>\n",
       "    <tr>\n",
       "      <th>3</th>\n",
       "      <td>Daniela</td>\n",
       "      <td>29</td>\n",
       "      <td>Curitiba</td>\n",
       "    </tr>\n",
       "  </tbody>\n",
       "</table>\n",
       "</div>"
      ],
      "text/plain": [
       "      Nome  Idade          Cidade\n",
       "0      Ana     23       São Paulo\n",
       "1    Bruno     35  Rio de Janeiro\n",
       "2   Carlos     45  Belo Horizonte\n",
       "3  Daniela     29        Curitiba"
      ]
     },
     "metadata": {},
     "output_type": "display_data"
    }
   ],
   "source": [
    "# Lista com sub listas não é a melhor maneiras de se trabalhar\n",
    "\n",
    "dados = [\n",
    "    [\"Ana\",23,\"São Paulo\"],\n",
    "    [\"Bruno\",35,\"Rio de Janeiro\"],\n",
    "    [\"Carlos\",45,\"Belo Horizonte\"],\n",
    "    [\"Daniela\",29,\"Curitiba\"]\n",
    "]\n",
    "colunas = [\"Nome\",\"Idade\",\"Cidade\"] \n",
    "df = pd.DataFrame(dados,columns=colunas)\n",
    "display(df) # display só funciona no jupyter  - ele é subentendido se eu colocar só a variável roda do mesmo jeito"
   ]
  },
  {
   "cell_type": "code",
   "execution_count": null,
   "metadata": {},
   "outputs": [],
   "source": [
    "# Transformando em um dicionário:\n",
    "# Muito mais indicado do que sub lista - mais prático também\n",
    "dicio = {\n",
    "    \"Nome\":[\"Ana\",\"Bruno\",\"Carlos\",\"Daniela\"],\n",
    "    \"Idade\":[23,35,45,29],\n",
    "    \"Cidade\":[\"São Paulo\",\"Rio de Janeiro\",\"Belo Horizonte\",\"Curitiba\"]\n",
    "}\n",
    "\n",
    "df = pd.DataFrame(dicio)\n",
    "df"
   ]
  },
  {
   "cell_type": "code",
   "execution_count": null,
   "metadata": {},
   "outputs": [],
   "source": [
    "# Leitura de um arquivo .csv:\n",
    "# Jogo o arquivo na pasta do repositório e chame pelo nome junto com a extensão.csv - arquivos em excel podendo ser chamados direto para o código\n",
    "\n",
    "df = pd.read_csv(\"nome.csv\",sep = \";\") # Abra o arquivo .csv e veja qual o separador depois use sep = \"separador\" para deixar tudo estético\n",
    "df                                        # o Padrão quando só se coloca o nome do arquivo o separador entre as informações é uma vírgula "
   ]
  },
  {
   "cell_type": "code",
   "execution_count": null,
   "metadata": {},
   "outputs": [],
   "source": [
    "# Site para dados https://www.ispdados.rj.gov.br/estatistica.html\n",
    "# Dessa forma não vai rodar pois o padrão de escrita brasileiro é o UTF-8 e os demais é o americano \n",
    "# Dados a esquerda são string a direita numeral\n",
    "\n",
    "df = pd.read_csv(\"BaseDPEvolucaoMensalCisp.csv\",sep = \";\",encoding = \"latin1\") # encoding = \"latin1\" ajuda a ler arquivo certinho\n",
    "df\n"
   ]
  },
  {
   "cell_type": "code",
   "execution_count": null,
   "metadata": {},
   "outputs": [],
   "source": [
    "df.head(10)"
   ]
  },
  {
   "cell_type": "code",
   "execution_count": null,
   "metadata": {},
   "outputs": [],
   "source": [
    "df.tail()"
   ]
  },
  {
   "cell_type": "code",
   "execution_count": null,
   "metadata": {},
   "outputs": [],
   "source": [
    "df.info # Lê o DataFrame de maneira mais leve"
   ]
  },
  {
   "cell_type": "code",
   "execution_count": null,
   "metadata": {},
   "outputs": [],
   "source": [
    "df.describe()"
   ]
  },
  {
   "cell_type": "code",
   "execution_count": 10,
   "metadata": {},
   "outputs": [
    {
     "data": {
      "text/plain": [
       "(36492, 63)"
      ]
     },
     "execution_count": 10,
     "metadata": {},
     "output_type": "execute_result"
    }
   ],
   "source": [
    "df.shape # Total linhas - Total colunas"
   ]
  },
  {
   "cell_type": "code",
   "execution_count": 11,
   "metadata": {},
   "outputs": [
    {
     "data": {
      "text/plain": [
       "Index(['cisp', 'mes', 'ano', 'mes_ano', 'aisp', 'risp', 'munic', 'mcirc',\n",
       "       'regiao', 'hom_doloso', 'lesao_corp_morte', 'latrocinio', 'cvli',\n",
       "       'hom_por_interv_policial', 'letalidade_violenta', 'tentat_hom',\n",
       "       'lesao_corp_dolosa', 'estupro', 'hom_culposo', 'lesao_corp_culposa',\n",
       "       'roubo_transeunte', 'roubo_celular', 'roubo_em_coletivo', 'roubo_rua',\n",
       "       'roubo_veiculo', 'roubo_carga', 'roubo_comercio', 'roubo_residencia',\n",
       "       'roubo_banco', 'roubo_cx_eletronico', 'roubo_conducao_saque',\n",
       "       'roubo_apos_saque', 'roubo_bicicleta', 'outros_roubos', 'total_roubos',\n",
       "       'furto_veiculos', 'furto_transeunte', 'furto_coletivo', 'furto_celular',\n",
       "       'furto_bicicleta', 'outros_furtos', 'total_furtos', 'sequestro',\n",
       "       'extorsao', 'sequestro_relampago', 'estelionato', 'apreensao_drogas',\n",
       "       'posse_drogas', 'trafico_drogas', 'apreensao_drogas_sem_autor',\n",
       "       'recuperacao_veiculos', 'apf', 'aaapai', 'cmp', 'cmba', 'ameaca',\n",
       "       'pessoas_desaparecidas', 'encontro_cadaver', 'encontro_ossada',\n",
       "       'pol_militares_mortos_serv', 'pol_civis_mortos_serv',\n",
       "       'registro_ocorrencias', 'fase'],\n",
       "      dtype='object')"
      ]
     },
     "execution_count": 11,
     "metadata": {},
     "output_type": "execute_result"
    }
   ],
   "source": [
    "df.columns # Lista com o nome das colunas"
   ]
  }
 ],
 "metadata": {
  "kernelspec": {
   "display_name": "Python 3",
   "language": "python",
   "name": "python3"
  },
  "language_info": {
   "codemirror_mode": {
    "name": "ipython",
    "version": 3
   },
   "file_extension": ".py",
   "mimetype": "text/x-python",
   "name": "python",
   "nbconvert_exporter": "python",
   "pygments_lexer": "ipython3",
   "version": "3.11.4"
  },
  "orig_nbformat": 4
 },
 "nbformat": 4,
 "nbformat_minor": 2
}
