{
 "cells": [
  {
   "cell_type": "code",
   "execution_count": 6,
   "id": "b867e9d7",
   "metadata": {},
   "outputs": [],
   "source": [
    "import pandas as pd\n",
    "import numpy as np"
   ]
  },
  {
   "cell_type": "code",
   "execution_count": null,
   "id": "ae08da42",
   "metadata": {},
   "outputs": [],
   "source": [
    "base_dados = pd.read_csv(\"BaseDPEvolucaoMensalCisp.csv\",sep = \";\", encoding=\"latin1\")\n",
    "base_dados.columns"
   ]
  },
  {
   "cell_type": "code",
   "execution_count": 25,
   "id": "838c7b28",
   "metadata": {},
   "outputs": [
    {
     "name": "stdout",
     "output_type": "stream",
     "text": [
      "Delegacias com 25% das maiores ocorrências de estelionato:\n",
      "    cisp  estelionato\n",
      "0     16        41003\n",
      "1     35        38234\n",
      "2     32        32570\n",
      "3      1        27293\n",
      "4     59        25876\n",
      "5     34        23101\n",
      "6     64        22503\n",
      "7      5        21417\n",
      "8     12        21174\n",
      "9     19        20340\n",
      "10    42        19272\n",
      "11    10        19249\n",
      "12   134        18912\n",
      "13    14        18586\n",
      "14    52        18256\n",
      "15    76        18060\n",
      "16    21        17909\n",
      "17    29        17796\n",
      "18     9        17092\n",
      "19   123        16842\n",
      "20    93        15597\n",
      "21    77        15591\n",
      "22    37        15427\n",
      "23    54        15409\n",
      "24    33        15389\n"
     ]
    }
   ],
   "source": [
    "# Agrupa os registros por delegacia\n",
    "delegacias = base_dados.groupby('cisp')['estelionato'].sum().reset_index()\n",
    "\n",
    "# Ordena do maior para o menor\n",
    "delegacias = delegacias.sort_values(by='estelionato', ascending=False).reset_index(drop=True)\n",
    "\n",
    "# Calcula quantas delegacias são 25% do total\n",
    "top_25_count = int(len(delegacias) * 0.25)\n",
    "\n",
    "# Seleciona as delegacias do top 25%\n",
    "top_25_delegacias = delegacias.head(top_25_count)\n",
    "\n",
    "print(\"Delegacias com 25% das maiores ocorrências de estelionato:\")\n",
    "print(top_25_delegacias.head(25))"
   ]
  }
 ],
 "metadata": {
  "kernelspec": {
   "display_name": "Python 3",
   "language": "python",
   "name": "python3"
  },
  "language_info": {
   "codemirror_mode": {
    "name": "ipython",
    "version": 3
   },
   "file_extension": ".py",
   "mimetype": "text/x-python",
   "name": "python",
   "nbconvert_exporter": "python",
   "pygments_lexer": "ipython3",
   "version": "3.11.4"
  }
 },
 "nbformat": 4,
 "nbformat_minor": 5
}
