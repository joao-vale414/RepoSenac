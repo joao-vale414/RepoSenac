{
 "cells": [
  {
   "cell_type": "code",
   "execution_count": 4,
   "metadata": {},
   "outputs": [],
   "source": [
    "# Bibliotecas são funções que terceiros criaram\n",
    "\n",
    "\n",
    "import pandas as pd # as pd é boa prática - existem padrões para bibliotecas - padrão de mercado "
   ]
  },
  {
   "cell_type": "code",
   "execution_count": null,
   "metadata": {},
   "outputs": [],
   "source": [
    "# Lista com sub listas não é a melhor maneiras de se trabalhar\n",
    "\n",
    "dados = [\n",
    "    [\"Ana\",23,\"São Paulo\"],\n",
    "    [\"Bruno\",35,\"Rio de Janeiro\"],\n",
    "    [\"Carlos\",45,\"Belo Horizonte\"],\n",
    "    [\"Daniela\",29,\"Curitiba\"]\n",
    "]\n",
    "colunas = [\"Nome\",\"Idade\",\"Cidade\"] \n",
    "df = pd.DataFrame(dados,columns=colunas)\n",
    "display(df) # display só funciona no jupyter  - ele é subentendido se eu colocar só a variável roda do mesmo jeito"
   ]
  },
  {
   "cell_type": "code",
   "execution_count": null,
   "metadata": {},
   "outputs": [],
   "source": [
    "# Transformando em um dicionário:\n",
    "# Muito mais indicado do que sub lista - mais prático também\n",
    "dicio = {\n",
    "    \"Nome\":[\"Ana\",\"Bruno\",\"Carlos\",\"Daniela\"],\n",
    "    \"Idade\":[23,35,45,29],\n",
    "    \"Cidade\":[\"São Paulo\",\"Rio de Janeiro\",\"Belo Horizonte\",\"Curitiba\"]\n",
    "}\n",
    "\n",
    "df = pd.DataFrame(dicio)\n",
    "df"
   ]
  },
  {
   "cell_type": "code",
   "execution_count": 21,
   "metadata": {},
   "outputs": [
    {
     "data": {
      "text/html": [
       "<div>\n",
       "<style scoped>\n",
       "    .dataframe tbody tr th:only-of-type {\n",
       "        vertical-align: middle;\n",
       "    }\n",
       "\n",
       "    .dataframe tbody tr th {\n",
       "        vertical-align: top;\n",
       "    }\n",
       "\n",
       "    .dataframe thead th {\n",
       "        text-align: right;\n",
       "    }\n",
       "</style>\n",
       "<table border=\"1\" class=\"dataframe\">\n",
       "  <thead>\n",
       "    <tr style=\"text-align: right;\">\n",
       "      <th></th>\n",
       "      <th>nome</th>\n",
       "      <th>idade</th>\n",
       "      <th>estado</th>\n",
       "    </tr>\n",
       "  </thead>\n",
       "  <tbody>\n",
       "    <tr>\n",
       "      <th>0</th>\n",
       "      <td>joao</td>\n",
       "      <td>50</td>\n",
       "      <td>RJ</td>\n",
       "    </tr>\n",
       "    <tr>\n",
       "      <th>1</th>\n",
       "      <td>maria</td>\n",
       "      <td>60</td>\n",
       "      <td>SP</td>\n",
       "    </tr>\n",
       "    <tr>\n",
       "      <th>2</th>\n",
       "      <td>jose</td>\n",
       "      <td>40</td>\n",
       "      <td>ES</td>\n",
       "    </tr>\n",
       "    <tr>\n",
       "      <th>3</th>\n",
       "      <td>ana</td>\n",
       "      <td>30</td>\n",
       "      <td>RJ</td>\n",
       "    </tr>\n",
       "  </tbody>\n",
       "</table>\n",
       "</div>"
      ],
      "text/plain": [
       "    nome  idade estado\n",
       "0   joao     50     RJ\n",
       "1  maria     60     SP\n",
       "2   jose     40     ES\n",
       "3    ana     30     RJ"
      ]
     },
     "execution_count": 21,
     "metadata": {},
     "output_type": "execute_result"
    }
   ],
   "source": [
    "# Leitura de um arquivo .csv:\n",
    "# Jogo o arquivo na pasta do repositório e chame pelo nome junto com a extensão.csv - arquivos em excel podendo ser chamados direto para o código\n",
    "\n",
    "df = pd.read_csv(\"nomecsv.csv\",sep = \";\") # Abra o arquivo .csv e veja qual o separador depois use sep = \"separador\" para deixar tudo estético\n",
    "df                                        # o Padrão quando só se coloca o nome do arquivo o separados entre as informações é uma vírgula \n",
    "                                          "
   ]
  }
 ],
 "metadata": {
  "kernelspec": {
   "display_name": "Python 3",
   "language": "python",
   "name": "python3"
  },
  "language_info": {
   "codemirror_mode": {
    "name": "ipython",
    "version": 3
   },
   "file_extension": ".py",
   "mimetype": "text/x-python",
   "name": "python",
   "nbconvert_exporter": "python",
   "pygments_lexer": "ipython3",
   "version": "3.11.4"
  },
  "orig_nbformat": 4
 },
 "nbformat": 4,
 "nbformat_minor": 2
}
