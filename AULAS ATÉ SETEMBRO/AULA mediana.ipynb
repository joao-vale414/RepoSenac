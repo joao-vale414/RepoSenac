{
 "cells": [
  {
   "cell_type": "code",
   "execution_count": null,
   "id": "7dad8736",
   "metadata": {},
   "outputs": [],
   "source": [
    "import numpy as np\n",
    "import pandas as pd "
   ]
  },
  {
   "cell_type": "code",
   "execution_count": null,
   "id": "77ac6934",
   "metadata": {},
   "outputs": [],
   "source": [
    "dados = np.array ([12,15,17,20,22,25,28,30,35,40])\n",
    "mediana = np.median(dados) \n",
    "q1 = np.percentile(dados,25)\n",
    "q2 = np.percentile(dados,50)\n",
    "q3 = np.percentile(dados,75)\n",
    "\n",
    "print(f\"q1 é {q1}\")\n",
    "print(f\"q2 é {q2}\")\n",
    "print(f\"q3 é {q3}\")\n",
    "print(f\"mediana {mediana}\")"
   ]
  },
  {
   "cell_type": "markdown",
   "id": "bf4d6b6c",
   "metadata": {},
   "source": [
    "trabalhar com dados = trabalhar com .array\n"
   ]
  }
 ],
 "metadata": {
  "language_info": {
   "name": "python"
  }
 },
 "nbformat": 4,
 "nbformat_minor": 5
}
