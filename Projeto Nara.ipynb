{
 "cells": [
  {
   "cell_type": "markdown",
   "id": "2c40fac6",
   "metadata": {},
   "source": [
    "| Cor                      | Descrição                      | Valor Hexadecimal              |\n",
    "| ------------------------ | ------------------------------ | ------------------------------ |\n",
    "| Azul institucional       | Azul principal da marca        | #004A8D([mg.senac.br][1]) |\n",
    "| Laranja institucional    | Laranja principal da marca     | #F7941D ([rn.senac.br][2]) |\n",
    "| Laranja-claro (variante) | Variante mais clara da laranja | #FDC180 ([rn.senac.br][2]) |\n"
   ]
  },
  {
   "cell_type": "code",
   "execution_count": null,
   "id": "a818f321",
   "metadata": {},
   "outputs": [],
   "source": []
  }
 ],
 "metadata": {
  "language_info": {
   "name": "python"
  }
 },
 "nbformat": 4,
 "nbformat_minor": 5
}
