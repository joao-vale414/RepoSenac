{
 "cells": [
  {
   "cell_type": "code",
   "execution_count": 1,
   "metadata": {},
   "outputs": [],
   "source": [
    "# A função é para reaproveitar blocos de códigos sem precisar reescrever todas as vezes\n",
    "# O uso de função é recomendado para: o erro na linha 500 as vezes são fruto de um erro da linha 200\n",
    "\n",
    "def situacao_aluno(lista):\n",
    "    media = sum(lista) / len(lista) # A função vai somar a lista e dividir a lista pelo tamanho dela mesma \n",
    "\n",
    "    if media >= 7:\n",
    "        print(\"Aprovado\")\n",
    "    elif media >= 5 and media < 7:\n",
    "        print(\"Recuperação\")\n",
    "    else:\n",
    "        print(\"Reprovado\")"
   ]
  },
  {
   "cell_type": "code",
   "execution_count": 2,
   "metadata": {},
   "outputs": [
    {
     "name": "stdout",
     "output_type": "stream",
     "text": [
      "Aprovado\n"
     ]
    }
   ],
   "source": [
    "joao = [8,9,7,7.5]\n",
    "situacao_aluno(joao)"
   ]
  }
 ],
 "metadata": {
  "kernelspec": {
   "display_name": "Python 3",
   "language": "python",
   "name": "python3"
  },
  "language_info": {
   "codemirror_mode": {
    "name": "ipython",
    "version": 3
   },
   "file_extension": ".py",
   "mimetype": "text/x-python",
   "name": "python",
   "nbconvert_exporter": "python",
   "pygments_lexer": "ipython3",
   "version": "3.11.4"
  },
  "orig_nbformat": 4
 },
 "nbformat": 4,
 "nbformat_minor": 2
}
