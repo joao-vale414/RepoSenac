{
 "cells": [
  {
   "cell_type": "code",
   "execution_count": null,
   "id": "226734b7",
   "metadata": {},
   "outputs": [],
   "source": [
    "import numpy as np\n",
    "import pandas as pd "
   ]
  },
  {
   "cell_type": "code",
   "execution_count": null,
   "id": "d4d006d0",
   "metadata": {},
   "outputs": [],
   "source": [
    "funcionarios_dados = pd.read_csv (f\"funcionarios_dados_ti.csv\", sep = \";\")\n",
    "funcionarios_dados"
   ]
  },
  {
   "cell_type": "code",
   "execution_count": null,
   "id": "e34802a8",
   "metadata": {},
   "outputs": [],
   "source": [
    "salario = funcionarios_dados[\"Salario\"].to_numpy()\n",
    "salario"
   ]
  },
  {
   "cell_type": "code",
   "execution_count": null,
   "id": "ad4d9770",
   "metadata": {},
   "outputs": [],
   "source": [
    "salario = np.array(funcionarios_dados[\"Salario\"])\n",
    "salario"
   ]
  },
  {
   "cell_type": "code",
   "execution_count": null,
   "id": "28790b23",
   "metadata": {},
   "outputs": [],
   "source": [
    "media = np.mean(salario)"
   ]
  },
  {
   "cell_type": "code",
   "execution_count": null,
   "id": "46073ca5",
   "metadata": {},
   "outputs": [],
   "source": [
    "mediana = np.median(salario)"
   ]
  },
  {
   "cell_type": "code",
   "execution_count": null,
   "id": "8256fd6b",
   "metadata": {},
   "outputs": [],
   "source": [
    "distancia_relativa = (media - mediana) / mediana"
   ]
  },
  {
   "cell_type": "code",
   "execution_count": null,
   "id": "be6fc2b8",
   "metadata": {},
   "outputs": [],
   "source": [
    "print(f\"A distância é {round(distancia_relativa*100,2)}%\")\n",
    "print(f\"Média é {media}\")\n",
    "print(f\"Mediana é {mediana}\")"
   ]
  }
 ],
 "metadata": {
  "kernelspec": {
   "display_name": "Python 3",
   "language": "python",
   "name": "python3"
  },
  "language_info": {
   "codemirror_mode": {
    "name": "ipython",
    "version": 3
   },
   "file_extension": ".py",
   "mimetype": "text/x-python",
   "name": "python",
   "nbconvert_exporter": "python",
   "pygments_lexer": "ipython3",
   "version": "3.11.4"
  }
 },
 "nbformat": 4,
 "nbformat_minor": 5
}
